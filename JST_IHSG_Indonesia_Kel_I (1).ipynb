{
  "nbformat": 4,
  "nbformat_minor": 0,
  "metadata": {
    "colab": {
      "name": "JST-IHSG Indonesia- Kel I.ipynb",
      "provenance": [],
      "collapsed_sections": [],
      "toc_visible": true
    },
    "kernelspec": {
      "display_name": "Python 3",
      "name": "python3"
    },
    "language_info": {
      "name": "python"
    }
  },
  "cells": [
    {
      "cell_type": "markdown",
      "metadata": {
        "id": "Lh2H-_M1UNir"
      },
      "source": [
        "#LSTM"
      ]
    },
    {
      "cell_type": "markdown",
      "metadata": {
        "id": "JNXbezFsSnul"
      },
      "source": [
        "##Input Data"
      ]
    },
    {
      "cell_type": "code",
      "metadata": {
        "id": "bvOvhDZrwCdZ"
      },
      "source": [
        "import numpy as np # linear algebra\n",
        "import pandas as pd # data processing, CSV file I/O (e.g. pd.read_csv)\n",
        "\n",
        "import seaborn as sns # Visualization\n",
        "import matplotlib.pyplot as plt # Visualization\n",
        "\n",
        "from sklearn.metrics import mean_absolute_error, mean_squared_error\n",
        "import math\n",
        "\n",
        "import warnings # Supress warnings \n",
        "warnings.filterwarnings('ignore')\n",
        "\n",
        "np.random.seed(7)"
      ],
      "execution_count": null,
      "outputs": []
    },
    {
      "cell_type": "code",
      "metadata": {
        "colab": {
          "base_uri": "https://localhost:8080/"
        },
        "id": "oD3svKIgwn-i",
        "outputId": "7455baad-7a6e-424d-b4b3-ac63b7adb9c9"
      },
      "source": [
        "!pip install colorama\n",
        "from colorama import Fore"
      ],
      "execution_count": null,
      "outputs": [
        {
          "output_type": "stream",
          "name": "stdout",
          "text": [
            "Collecting colorama\n",
            "  Downloading colorama-0.4.4-py2.py3-none-any.whl (16 kB)\n",
            "Installing collected packages: colorama\n",
            "Successfully installed colorama-0.4.4\n"
          ]
        }
      ]
    },
    {
      "cell_type": "code",
      "metadata": {
        "colab": {
          "base_uri": "https://localhost:8080/"
        },
        "id": "LeDJwbqhwyXH",
        "outputId": "928a9a7a-1646-44db-dd7e-714a0f02a174"
      },
      "source": [
        "from google.colab import drive\n",
        "drive.mount('/content/drive')"
      ],
      "execution_count": null,
      "outputs": [
        {
          "output_type": "stream",
          "name": "stdout",
          "text": [
            "Mounted at /content/drive\n"
          ]
        }
      ]
    },
    {
      "cell_type": "code",
      "metadata": {
        "colab": {
          "base_uri": "https://localhost:8080/"
        },
        "id": "m6LG3ifkh9ob",
        "outputId": "2e2f9c7d-fd98-4310-a8fa-6943c7763afc"
      },
      "source": [
        "from google.colab import drive\n",
        "drive.mount('/content/drive')"
      ],
      "execution_count": null,
      "outputs": [
        {
          "output_type": "stream",
          "name": "stdout",
          "text": [
            "Drive already mounted at /content/drive; to attempt to forcibly remount, call drive.mount(\"/content/drive\", force_remount=True).\n"
          ]
        }
      ]
    },
    {
      "cell_type": "code",
      "metadata": {
        "id": "AIzO_hSdxARi"
      },
      "source": [
        "#Load Data From Local File\n",
        "data=pd.read_csv(\"/content/drive/MyDrive/IHSG.csv\",sep=',')"
      ],
      "execution_count": null,
      "outputs": []
    },
    {
      "cell_type": "code",
      "metadata": {
        "colab": {
          "base_uri": "https://localhost:8080/",
          "height": 206
        },
        "id": "FOpHLvGmxJQF",
        "outputId": "66eda827-41c6-4729-8cf3-43c4cf5d85d8"
      },
      "source": [
        "data.head()"
      ],
      "execution_count": null,
      "outputs": [
        {
          "output_type": "execute_result",
          "data": {
            "text/html": [
              "<div>\n",
              "<style scoped>\n",
              "    .dataframe tbody tr th:only-of-type {\n",
              "        vertical-align: middle;\n",
              "    }\n",
              "\n",
              "    .dataframe tbody tr th {\n",
              "        vertical-align: top;\n",
              "    }\n",
              "\n",
              "    .dataframe thead th {\n",
              "        text-align: right;\n",
              "    }\n",
              "</style>\n",
              "<table border=\"1\" class=\"dataframe\">\n",
              "  <thead>\n",
              "    <tr style=\"text-align: right;\">\n",
              "      <th></th>\n",
              "      <th>Date</th>\n",
              "      <th>IHSG (stock prices)</th>\n",
              "    </tr>\n",
              "  </thead>\n",
              "  <tbody>\n",
              "    <tr>\n",
              "      <th>0</th>\n",
              "      <td>Jan-90</td>\n",
              "      <td>441.81</td>\n",
              "    </tr>\n",
              "    <tr>\n",
              "      <th>1</th>\n",
              "      <td>Feb-90</td>\n",
              "      <td>504.27</td>\n",
              "    </tr>\n",
              "    <tr>\n",
              "      <th>2</th>\n",
              "      <td>Mar-90</td>\n",
              "      <td>612.20</td>\n",
              "    </tr>\n",
              "    <tr>\n",
              "      <th>3</th>\n",
              "      <td>Apr-90</td>\n",
              "      <td>638.79</td>\n",
              "    </tr>\n",
              "    <tr>\n",
              "      <th>4</th>\n",
              "      <td>May-90</td>\n",
              "      <td>636.40</td>\n",
              "    </tr>\n",
              "  </tbody>\n",
              "</table>\n",
              "</div>"
            ],
            "text/plain": [
              "     Date  IHSG (stock prices)\n",
              "0  Jan-90               441.81\n",
              "1  Feb-90               504.27\n",
              "2  Mar-90               612.20\n",
              "3  Apr-90               638.79\n",
              "4  May-90               636.40"
            ]
          },
          "metadata": {},
          "execution_count": 6
        }
      ]
    },
    {
      "cell_type": "code",
      "metadata": {
        "colab": {
          "base_uri": "https://localhost:8080/",
          "height": 300
        },
        "id": "pQnGgMbSiIO7",
        "outputId": "731c256b-6d57-433c-a268-b10d8c6bb5b0"
      },
      "source": [
        "data.describe()"
      ],
      "execution_count": null,
      "outputs": [
        {
          "output_type": "execute_result",
          "data": {
            "text/html": [
              "<div>\n",
              "<style scoped>\n",
              "    .dataframe tbody tr th:only-of-type {\n",
              "        vertical-align: middle;\n",
              "    }\n",
              "\n",
              "    .dataframe tbody tr th {\n",
              "        vertical-align: top;\n",
              "    }\n",
              "\n",
              "    .dataframe thead th {\n",
              "        text-align: right;\n",
              "    }\n",
              "</style>\n",
              "<table border=\"1\" class=\"dataframe\">\n",
              "  <thead>\n",
              "    <tr style=\"text-align: right;\">\n",
              "      <th></th>\n",
              "      <th>IHSG (stock prices)</th>\n",
              "    </tr>\n",
              "  </thead>\n",
              "  <tbody>\n",
              "    <tr>\n",
              "      <th>count</th>\n",
              "      <td>374.000000</td>\n",
              "    </tr>\n",
              "    <tr>\n",
              "      <th>mean</th>\n",
              "      <td>2278.636631</td>\n",
              "    </tr>\n",
              "    <tr>\n",
              "      <th>std</th>\n",
              "      <td>2118.064079</td>\n",
              "    </tr>\n",
              "    <tr>\n",
              "      <th>min</th>\n",
              "      <td>226.680000</td>\n",
              "    </tr>\n",
              "    <tr>\n",
              "      <th>25%</th>\n",
              "      <td>481.987500</td>\n",
              "    </tr>\n",
              "    <tr>\n",
              "      <th>50%</th>\n",
              "      <td>1080.170000</td>\n",
              "    </tr>\n",
              "    <tr>\n",
              "      <th>75%</th>\n",
              "      <td>4341.890000</td>\n",
              "    </tr>\n",
              "    <tr>\n",
              "      <th>max</th>\n",
              "      <td>6605.630000</td>\n",
              "    </tr>\n",
              "  </tbody>\n",
              "</table>\n",
              "</div>"
            ],
            "text/plain": [
              "       IHSG (stock prices)\n",
              "count           374.000000\n",
              "mean           2278.636631\n",
              "std            2118.064079\n",
              "min             226.680000\n",
              "25%             481.987500\n",
              "50%            1080.170000\n",
              "75%            4341.890000\n",
              "max            6605.630000"
            ]
          },
          "metadata": {},
          "execution_count": 7
        }
      ]
    },
    {
      "cell_type": "code",
      "metadata": {
        "id": "9pvBZQ6h1Exi"
      },
      "source": [
        "data['Open']= data['IHSG (stock prices)']"
      ],
      "execution_count": null,
      "outputs": []
    },
    {
      "cell_type": "code",
      "metadata": {
        "colab": {
          "base_uri": "https://localhost:8080/"
        },
        "id": "OgrXz7IqpIhQ",
        "outputId": "ae707d61-a211-4c8c-88e8-72dde7c4d417"
      },
      "source": [
        "data.shape"
      ],
      "execution_count": null,
      "outputs": [
        {
          "output_type": "execute_result",
          "data": {
            "text/plain": [
              "(374, 3)"
            ]
          },
          "metadata": {},
          "execution_count": 9
        }
      ]
    },
    {
      "cell_type": "code",
      "metadata": {
        "colab": {
          "base_uri": "https://localhost:8080/"
        },
        "id": "Y3cT926S-Qt5",
        "outputId": "ef554820-d617-485e-be34-4d211497e886"
      },
      "source": [
        "data.info()"
      ],
      "execution_count": null,
      "outputs": [
        {
          "output_type": "stream",
          "name": "stdout",
          "text": [
            "<class 'pandas.core.frame.DataFrame'>\n",
            "RangeIndex: 374 entries, 0 to 373\n",
            "Data columns (total 3 columns):\n",
            " #   Column               Non-Null Count  Dtype  \n",
            "---  ------               --------------  -----  \n",
            " 0   Date                 374 non-null    object \n",
            " 1   IHSG (stock prices)  374 non-null    float64\n",
            " 2   Open                 374 non-null    float64\n",
            "dtypes: float64(2), object(1)\n",
            "memory usage: 8.9+ KB\n"
          ]
        }
      ]
    },
    {
      "cell_type": "code",
      "metadata": {
        "id": "eZAFuFWQowyH"
      },
      "source": [
        "data1=data.copy()"
      ],
      "execution_count": null,
      "outputs": []
    },
    {
      "cell_type": "markdown",
      "metadata": {
        "id": "4_AcwhoqUqkm"
      },
      "source": [
        "## Data Understanding"
      ]
    },
    {
      "cell_type": "code",
      "metadata": {
        "colab": {
          "base_uri": "https://localhost:8080/"
        },
        "id": "98PMWBnCpK_3",
        "outputId": "7859cff5-4fd3-4bf2-b2cf-7c08f9e9190a"
      },
      "source": [
        "# Proses membangkitkan data waktu (Boleh diskip)\n",
        "dates = pd.date_range('19900101',periods=374,freq='MS')\n",
        "dates"
      ],
      "execution_count": null,
      "outputs": [
        {
          "output_type": "execute_result",
          "data": {
            "text/plain": [
              "DatetimeIndex(['1990-01-01', '1990-02-01', '1990-03-01', '1990-04-01',\n",
              "               '1990-05-01', '1990-06-01', '1990-07-01', '1990-08-01',\n",
              "               '1990-09-01', '1990-10-01',\n",
              "               ...\n",
              "               '2020-05-01', '2020-06-01', '2020-07-01', '2020-08-01',\n",
              "               '2020-09-01', '2020-10-01', '2020-11-01', '2020-12-01',\n",
              "               '2021-01-01', '2021-02-01'],\n",
              "              dtype='datetime64[ns]', length=374, freq='MS')"
            ]
          },
          "metadata": {},
          "execution_count": 12
        }
      ]
    },
    {
      "cell_type": "code",
      "metadata": {
        "colab": {
          "base_uri": "https://localhost:8080/",
          "height": 206
        },
        "id": "2rscym-YpTjT",
        "outputId": "4f462d7b-72c5-45d1-be01-118080e79b44"
      },
      "source": [
        "data['Date']=pd.DataFrame(dates)\n",
        "data.head()"
      ],
      "execution_count": null,
      "outputs": [
        {
          "output_type": "execute_result",
          "data": {
            "text/html": [
              "<div>\n",
              "<style scoped>\n",
              "    .dataframe tbody tr th:only-of-type {\n",
              "        vertical-align: middle;\n",
              "    }\n",
              "\n",
              "    .dataframe tbody tr th {\n",
              "        vertical-align: top;\n",
              "    }\n",
              "\n",
              "    .dataframe thead th {\n",
              "        text-align: right;\n",
              "    }\n",
              "</style>\n",
              "<table border=\"1\" class=\"dataframe\">\n",
              "  <thead>\n",
              "    <tr style=\"text-align: right;\">\n",
              "      <th></th>\n",
              "      <th>Date</th>\n",
              "      <th>IHSG (stock prices)</th>\n",
              "      <th>Open</th>\n",
              "    </tr>\n",
              "  </thead>\n",
              "  <tbody>\n",
              "    <tr>\n",
              "      <th>0</th>\n",
              "      <td>1990-01-01</td>\n",
              "      <td>441.81</td>\n",
              "      <td>441.81</td>\n",
              "    </tr>\n",
              "    <tr>\n",
              "      <th>1</th>\n",
              "      <td>1990-02-01</td>\n",
              "      <td>504.27</td>\n",
              "      <td>504.27</td>\n",
              "    </tr>\n",
              "    <tr>\n",
              "      <th>2</th>\n",
              "      <td>1990-03-01</td>\n",
              "      <td>612.20</td>\n",
              "      <td>612.20</td>\n",
              "    </tr>\n",
              "    <tr>\n",
              "      <th>3</th>\n",
              "      <td>1990-04-01</td>\n",
              "      <td>638.79</td>\n",
              "      <td>638.79</td>\n",
              "    </tr>\n",
              "    <tr>\n",
              "      <th>4</th>\n",
              "      <td>1990-05-01</td>\n",
              "      <td>636.40</td>\n",
              "      <td>636.40</td>\n",
              "    </tr>\n",
              "  </tbody>\n",
              "</table>\n",
              "</div>"
            ],
            "text/plain": [
              "        Date  IHSG (stock prices)    Open\n",
              "0 1990-01-01               441.81  441.81\n",
              "1 1990-02-01               504.27  504.27\n",
              "2 1990-03-01               612.20  612.20\n",
              "3 1990-04-01               638.79  638.79\n",
              "4 1990-05-01               636.40  636.40"
            ]
          },
          "metadata": {},
          "execution_count": 13
        }
      ]
    },
    {
      "cell_type": "code",
      "metadata": {
        "colab": {
          "base_uri": "https://localhost:8080/",
          "height": 206
        },
        "id": "rde4VzLiz1bA",
        "outputId": "f556dffd-962f-4089-b5e4-d1680d86e01c"
      },
      "source": [
        "from datetime import datetime, date \n",
        "\n",
        "data['Date'] = pd.to_datetime(data['Date'], format = '%Y-%m-%d')\n",
        "data.head().style.set_properties(subset=['Date'], **{'background-color': 'dodgerblue'})"
      ],
      "execution_count": null,
      "outputs": [
        {
          "output_type": "execute_result",
          "data": {
            "text/html": [
              "<style  type=\"text/css\" >\n",
              "#T_e43f38f4_597b_11ec_a32f_0242ac1c0002row0_col0,#T_e43f38f4_597b_11ec_a32f_0242ac1c0002row1_col0,#T_e43f38f4_597b_11ec_a32f_0242ac1c0002row2_col0,#T_e43f38f4_597b_11ec_a32f_0242ac1c0002row3_col0,#T_e43f38f4_597b_11ec_a32f_0242ac1c0002row4_col0{\n",
              "            background-color:  dodgerblue;\n",
              "        }</style><table id=\"T_e43f38f4_597b_11ec_a32f_0242ac1c0002\" class=\"dataframe\"><thead>    <tr>        <th class=\"blank level0\" ></th>        <th class=\"col_heading level0 col0\" >Date</th>        <th class=\"col_heading level0 col1\" >IHSG (stock prices)</th>        <th class=\"col_heading level0 col2\" >Open</th>    </tr></thead><tbody>\n",
              "                <tr>\n",
              "                        <th id=\"T_e43f38f4_597b_11ec_a32f_0242ac1c0002level0_row0\" class=\"row_heading level0 row0\" >0</th>\n",
              "                        <td id=\"T_e43f38f4_597b_11ec_a32f_0242ac1c0002row0_col0\" class=\"data row0 col0\" >1990-01-01 00:00:00</td>\n",
              "                        <td id=\"T_e43f38f4_597b_11ec_a32f_0242ac1c0002row0_col1\" class=\"data row0 col1\" >441.810000</td>\n",
              "                        <td id=\"T_e43f38f4_597b_11ec_a32f_0242ac1c0002row0_col2\" class=\"data row0 col2\" >441.810000</td>\n",
              "            </tr>\n",
              "            <tr>\n",
              "                        <th id=\"T_e43f38f4_597b_11ec_a32f_0242ac1c0002level0_row1\" class=\"row_heading level0 row1\" >1</th>\n",
              "                        <td id=\"T_e43f38f4_597b_11ec_a32f_0242ac1c0002row1_col0\" class=\"data row1 col0\" >1990-02-01 00:00:00</td>\n",
              "                        <td id=\"T_e43f38f4_597b_11ec_a32f_0242ac1c0002row1_col1\" class=\"data row1 col1\" >504.270000</td>\n",
              "                        <td id=\"T_e43f38f4_597b_11ec_a32f_0242ac1c0002row1_col2\" class=\"data row1 col2\" >504.270000</td>\n",
              "            </tr>\n",
              "            <tr>\n",
              "                        <th id=\"T_e43f38f4_597b_11ec_a32f_0242ac1c0002level0_row2\" class=\"row_heading level0 row2\" >2</th>\n",
              "                        <td id=\"T_e43f38f4_597b_11ec_a32f_0242ac1c0002row2_col0\" class=\"data row2 col0\" >1990-03-01 00:00:00</td>\n",
              "                        <td id=\"T_e43f38f4_597b_11ec_a32f_0242ac1c0002row2_col1\" class=\"data row2 col1\" >612.200000</td>\n",
              "                        <td id=\"T_e43f38f4_597b_11ec_a32f_0242ac1c0002row2_col2\" class=\"data row2 col2\" >612.200000</td>\n",
              "            </tr>\n",
              "            <tr>\n",
              "                        <th id=\"T_e43f38f4_597b_11ec_a32f_0242ac1c0002level0_row3\" class=\"row_heading level0 row3\" >3</th>\n",
              "                        <td id=\"T_e43f38f4_597b_11ec_a32f_0242ac1c0002row3_col0\" class=\"data row3 col0\" >1990-04-01 00:00:00</td>\n",
              "                        <td id=\"T_e43f38f4_597b_11ec_a32f_0242ac1c0002row3_col1\" class=\"data row3 col1\" >638.790000</td>\n",
              "                        <td id=\"T_e43f38f4_597b_11ec_a32f_0242ac1c0002row3_col2\" class=\"data row3 col2\" >638.790000</td>\n",
              "            </tr>\n",
              "            <tr>\n",
              "                        <th id=\"T_e43f38f4_597b_11ec_a32f_0242ac1c0002level0_row4\" class=\"row_heading level0 row4\" >4</th>\n",
              "                        <td id=\"T_e43f38f4_597b_11ec_a32f_0242ac1c0002row4_col0\" class=\"data row4 col0\" >1990-05-01 00:00:00</td>\n",
              "                        <td id=\"T_e43f38f4_597b_11ec_a32f_0242ac1c0002row4_col1\" class=\"data row4 col1\" >636.400000</td>\n",
              "                        <td id=\"T_e43f38f4_597b_11ec_a32f_0242ac1c0002row4_col2\" class=\"data row4 col2\" >636.400000</td>\n",
              "            </tr>\n",
              "    </tbody></table>"
            ],
            "text/plain": [
              "<pandas.io.formats.style.Styler at 0x7fa379100450>"
            ]
          },
          "metadata": {},
          "execution_count": 14
        }
      ]
    },
    {
      "cell_type": "code",
      "metadata": {
        "colab": {
          "base_uri": "https://localhost:8080/",
          "height": 238
        },
        "id": "oe67he79qaPn",
        "outputId": "8f016d79-46f1-401a-c36a-cec805d09e67"
      },
      "source": [
        "# Setting indeks menjadi indeks runtun waktu (Boleh diskip)\n",
        "\n",
        "ts_df=data.set_index('Date')\n",
        "ts_df.head()"
      ],
      "execution_count": null,
      "outputs": [
        {
          "output_type": "execute_result",
          "data": {
            "text/html": [
              "<div>\n",
              "<style scoped>\n",
              "    .dataframe tbody tr th:only-of-type {\n",
              "        vertical-align: middle;\n",
              "    }\n",
              "\n",
              "    .dataframe tbody tr th {\n",
              "        vertical-align: top;\n",
              "    }\n",
              "\n",
              "    .dataframe thead th {\n",
              "        text-align: right;\n",
              "    }\n",
              "</style>\n",
              "<table border=\"1\" class=\"dataframe\">\n",
              "  <thead>\n",
              "    <tr style=\"text-align: right;\">\n",
              "      <th></th>\n",
              "      <th>IHSG (stock prices)</th>\n",
              "      <th>Open</th>\n",
              "    </tr>\n",
              "    <tr>\n",
              "      <th>Date</th>\n",
              "      <th></th>\n",
              "      <th></th>\n",
              "    </tr>\n",
              "  </thead>\n",
              "  <tbody>\n",
              "    <tr>\n",
              "      <th>1990-01-01</th>\n",
              "      <td>441.81</td>\n",
              "      <td>441.81</td>\n",
              "    </tr>\n",
              "    <tr>\n",
              "      <th>1990-02-01</th>\n",
              "      <td>504.27</td>\n",
              "      <td>504.27</td>\n",
              "    </tr>\n",
              "    <tr>\n",
              "      <th>1990-03-01</th>\n",
              "      <td>612.20</td>\n",
              "      <td>612.20</td>\n",
              "    </tr>\n",
              "    <tr>\n",
              "      <th>1990-04-01</th>\n",
              "      <td>638.79</td>\n",
              "      <td>638.79</td>\n",
              "    </tr>\n",
              "    <tr>\n",
              "      <th>1990-05-01</th>\n",
              "      <td>636.40</td>\n",
              "      <td>636.40</td>\n",
              "    </tr>\n",
              "  </tbody>\n",
              "</table>\n",
              "</div>"
            ],
            "text/plain": [
              "            IHSG (stock prices)    Open\n",
              "Date                                   \n",
              "1990-01-01               441.81  441.81\n",
              "1990-02-01               504.27  504.27\n",
              "1990-03-01               612.20  612.20\n",
              "1990-04-01               638.79  638.79\n",
              "1990-05-01               636.40  636.40"
            ]
          },
          "metadata": {},
          "execution_count": 15
        }
      ]
    },
    {
      "cell_type": "markdown",
      "metadata": {
        "id": "TdeGGKIgqjXH"
      },
      "source": [
        "##Plot Time Series"
      ]
    },
    {
      "cell_type": "code",
      "metadata": {
        "colab": {
          "base_uri": "https://localhost:8080/"
        },
        "id": "VdJpZ7ibqR5r",
        "outputId": "bae2af00-6968-4e68-91e9-f8f65e9b0e75"
      },
      "source": [
        "#Plot Time Series ini jika tidak dilakukan prosen pengindeksan runtun waktu, maka variabel Y hanya berupa urutan observasi\n",
        "\n",
        "fig=plt.figure()\n",
        "plt.plot(ts_df)\n",
        "fig.suptitle('Time Series Plot of IHSG')\n",
        "plt.xlabel('Date')\n",
        "plt.ylabel('IHSG')"
      ],
      "execution_count": null,
      "outputs": [
        {
          "output_type": "execute_result",
          "data": {
            "text/plain": [
              "Text(0, 0.5, 'IHSG')"
            ]
          },
          "metadata": {},
          "execution_count": 16
        },
        {
          "output_type": "display_data",
          "data": {
            "image/png": "[encoded data removed]",
            "text/plain": [
              "<Figure size 432x288 with 1 Axes>"
            ]
          },
          "metadata": {
            "needs_background": "light"
          }
        }
      ]
    },
    {
      "cell_type": "code",
      "metadata": {
        "colab": {
          "base_uri": "https://localhost:8080/"
        },
        "id": "0Ph_-YUM2Kwd",
        "outputId": "2499d7b7-c2dc-4cd1-c2b0-5c71e4271935"
      },
      "source": [
        "# Plot ACF dan PACF\n",
        "import statsmodels.api as sm\n",
        "\n",
        "sm.graphics.tsa.plot_acf(data[['IHSG (stock prices)']])\n",
        "sm.graphics.tsa.plot_pacf(data[['IHSG (stock prices)']])\n",
        "plt.show()"
      ],
      "execution_count": null,
      "outputs": [
        {
          "output_type": "display_data",
          "data": {
            "image/png": "[encoded data removed]",
            "text/plain": [
              "<Figure size 432x288 with 1 Axes>"
            ]
          },
          "metadata": {
            "needs_background": "light"
          }
        },
        {
          "output_type": "display_data",
          "data": {
            "image/png": "[encoded data removed]",
            "text/plain": [
              "<Figure size 432x288 with 1 Axes>"
            ]
          },
          "metadata": {
            "needs_background": "light"
          }
        }
      ]
    },
    {
      "cell_type": "code",
      "metadata": {
        "colab": {
          "base_uri": "https://localhost:8080/"
        },
        "id": "_YRlJGiqA4Iw",
        "outputId": "ccd77986-0986-4e7e-cb26-f1a1e6202b7a"
      },
      "source": [
        "# A month has 4 weeks\n",
        "rolling_window = 1\n",
        "sns.lineplot(x=data['Date'], y=data['Open'],color='dodgerblue')\n",
        "sns.lineplot(x=data['Date'], y=data['Open'].rolling(rolling_window).mean(), color='black', label='rolling mean')\n",
        "sns.lineplot(x=data['Date'], y=data['Open'].rolling(rolling_window).std(),  color='orange', label='rolling std')\n",
        "plt.title('IHSG: Non-stationary \\nnon-constant mean & non-constant variance', fontsize=14)\n",
        "plt.ylabel(ylabel='Open', fontsize=14)\n",
        "plt.xlim([date(1990, 1, 1), date(2021, 2,1)])\n",
        "\n",
        "plt.tight_layout()\n",
        "plt.show()"
      ],
      "execution_count": null,
      "outputs": [
        {
          "output_type": "display_data",
          "data": {
            "image/png": "[encoded data removed]",
            "text/plain": [
              "<Figure size 432x288 with 1 Axes>"
            ]
          },
          "metadata": {
            "needs_background": "light"
          }
        }
      ]
    },
    {
      "cell_type": "markdown",
      "metadata": {
        "id": "BTMmsRXeUXu8"
      },
      "source": [
        "##ADF Test"
      ]
    },
    {
      "cell_type": "code",
      "metadata": {
        "colab": {
          "base_uri": "https://localhost:8080/"
        },
        "id": "g6h1k6zRDj6f",
        "outputId": "b9f71ae1-475d-40ee-a785-47ccba045b41"
      },
      "source": [
        "# https://www.statsmodels.org/stable/generated/statsmodels.tsa.stattools.adfuller.html\n",
        "from statsmodels.tsa.stattools import adfuller\n",
        "series = data['Open']\n",
        "X = series.values\n",
        "result = adfuller(X)\n",
        "print('ADF Statistic: %f' % result[0])\n",
        "print('p-value: %f' % result[1])\n",
        "print('Critical Values:')\n",
        "for key, value in result[4].items():\n",
        "\tprint('\\t%s: %.3f' % (key, value))"
      ],
      "execution_count": null,
      "outputs": [
        {
          "output_type": "stream",
          "name": "stdout",
          "text": [
            "ADF Statistic: 0.292256\n",
            "p-value: 0.976986\n",
            "Critical Values:\n",
            "\t1%: -3.448\n",
            "\t5%: -2.870\n",
            "\t10%: -2.571\n"
          ]
        }
      ]
    },
    {
      "cell_type": "markdown",
      "metadata": {
        "id": "byetGBiSUcGW"
      },
      "source": [
        "##Transformasi"
      ]
    },
    {
      "cell_type": "code",
      "metadata": {
        "id": "V8jUZE9lHwal"
      },
      "source": [
        "# Log Transform of absolute values\n",
        "# (Log transoform of negative values will return NaN)\n",
        "data1['Open_log'] = np.log(abs(data1['Open']))\n",
        "\n",
        "f, ax = plt.subplots(nrows=1, ncols=2, figsize=(20, 6))\n",
        "visualize_adfuller_results(data1['Open_log'], 'Transformed \\n Open', ax[0])\n",
        "\n",
        "sns.distplot(data1['Open_log'], ax=ax[1])"
      ],
      "execution_count": null,
      "outputs": []
    },
    {
      "cell_type": "markdown",
      "metadata": {
        "id": "YDrltZ_CUfpH"
      },
      "source": [
        "##Differencing"
      ]
    },
    {
      "cell_type": "code",
      "metadata": {
        "id": "wx2O3ca7Mv00"
      },
      "source": [
        "# First Order Differencing\n",
        "ts_diff = np.diff(data1['Open'])\n",
        "data1['Open_diff_1'] = np.append([0], ts_diff)"
      ],
      "execution_count": null,
      "outputs": []
    },
    {
      "cell_type": "code",
      "metadata": {
        "colab": {
          "base_uri": "https://localhost:8080/",
          "height": 511
        },
        "id": "BYj3ur3c2eLB",
        "outputId": "81d899bd-c010-41b2-f2c8-931fca532675"
      },
      "source": [
        "f, ax = plt.subplots(nrows=1, ncols=2, figsize=(20, 6))\n",
        "visualize_adfuller_results(data1['Open_diff_1'], 'Differencing Lag 1 \\n Open', ax[0])\n",
        "\n",
        "sns.distplot(data1['Open_diff_1'], ax=ax[1])"
      ],
      "execution_count": null,
      "outputs": [
        {
          "output_type": "error",
          "ename": "NameError",
          "evalue": "ignored",
          "traceback": [
            "\u001b[0;31m---------------------------------------------------------------------------\u001b[0m",
            "\u001b[0;31mNameError\u001b[0m                                 Traceback (most recent call last)",
            "\u001b[0;32m<ipython-input-22-2039d11db006>\u001b[0m in \u001b[0;36m<module>\u001b[0;34m()\u001b[0m\n\u001b[1;32m      1\u001b[0m \u001b[0mf\u001b[0m\u001b[0;34m,\u001b[0m \u001b[0max\u001b[0m \u001b[0;34m=\u001b[0m \u001b[0mplt\u001b[0m\u001b[0;34m.\u001b[0m\u001b[0msubplots\u001b[0m\u001b[0;34m(\u001b[0m\u001b[0mnrows\u001b[0m\u001b[0;34m=\u001b[0m\u001b[0;36m1\u001b[0m\u001b[0;34m,\u001b[0m \u001b[0mncols\u001b[0m\u001b[0;34m=\u001b[0m\u001b[0;36m2\u001b[0m\u001b[0;34m,\u001b[0m \u001b[0mfigsize\u001b[0m\u001b[0;34m=\u001b[0m\u001b[0;34m(\u001b[0m\u001b[0;36m20\u001b[0m\u001b[0;34m,\u001b[0m \u001b[0;36m6\u001b[0m\u001b[0;34m)\u001b[0m\u001b[0;34m)\u001b[0m\u001b[0;34m\u001b[0m\u001b[0;34m\u001b[0m\u001b[0m\n\u001b[0;32m----> 2\u001b[0;31m \u001b[0mvisualize_adfuller_results\u001b[0m\u001b[0;34m(\u001b[0m\u001b[0mdata1\u001b[0m\u001b[0;34m[\u001b[0m\u001b[0;34m'Open_diff_1'\u001b[0m\u001b[0;34m]\u001b[0m\u001b[0;34m,\u001b[0m \u001b[0;34m'Differencing Lag 1 \\n Open'\u001b[0m\u001b[0;34m,\u001b[0m \u001b[0max\u001b[0m\u001b[0;34m[\u001b[0m\u001b[0;36m0\u001b[0m\u001b[0;34m]\u001b[0m\u001b[0;34m)\u001b[0m\u001b[0;34m\u001b[0m\u001b[0;34m\u001b[0m\u001b[0m\n\u001b[0m\u001b[1;32m      3\u001b[0m \u001b[0;34m\u001b[0m\u001b[0m\n\u001b[1;32m      4\u001b[0m \u001b[0msns\u001b[0m\u001b[0;34m.\u001b[0m\u001b[0mdistplot\u001b[0m\u001b[0;34m(\u001b[0m\u001b[0mdata1\u001b[0m\u001b[0;34m[\u001b[0m\u001b[0;34m'Open_diff_1'\u001b[0m\u001b[0;34m]\u001b[0m\u001b[0;34m,\u001b[0m \u001b[0max\u001b[0m\u001b[0;34m=\u001b[0m\u001b[0max\u001b[0m\u001b[0;34m[\u001b[0m\u001b[0;36m1\u001b[0m\u001b[0;34m]\u001b[0m\u001b[0;34m)\u001b[0m\u001b[0;34m\u001b[0m\u001b[0;34m\u001b[0m\u001b[0m\n",
            "\u001b[0;31mNameError\u001b[0m: name 'visualize_adfuller_results' is not defined"
          ]
        },
        {
          "output_type": "display_data",
          "data": {
            "image/png": "[encoded data removed]",
            "text/plain": [
              "<Figure size 1440x432 with 2 Axes>"
            ]
          },
          "metadata": {
            "needs_background": "light"
          }
        }
      ]
    },
    {
      "cell_type": "code",
      "metadata": {
        "id": "mlQjT7Ru1mX3"
      },
      "source": [
        "data1.head()"
      ],
      "execution_count": null,
      "outputs": []
    },
    {
      "cell_type": "markdown",
      "metadata": {
        "id": "iP_iXdHS31Qs"
      },
      "source": [
        "##EDA 2"
      ]
    },
    {
      "cell_type": "code",
      "metadata": {
        "colab": {
          "base_uri": "https://localhost:8080/",
          "height": 283
        },
        "id": "DAUMXs5B33mO",
        "outputId": "c4cbdd5c-a964-45b2-af45-d4b33a2d9a54"
      },
      "source": [
        "from pandas.plotting import autocorrelation_plot\n",
        "\n",
        "autocorrelation_plot(data['IHSG (stock prices)'])\n",
        "plt.show()"
      ],
      "execution_count": null,
      "outputs": [
        {
          "output_type": "display_data",
          "data": {
            "image/png": "[encoded data removed]",
            "text/plain": [
              "<Figure size 432x288 with 1 Axes>"
            ]
          },
          "metadata": {
            "needs_background": "light"
          }
        }
      ]
    },
    {
      "cell_type": "markdown",
      "metadata": {
        "id": "nYTrfmhRUvca"
      },
      "source": [
        "##Split Data"
      ]
    },
    {
      "cell_type": "code",
      "metadata": {
        "colab": {
          "base_uri": "https://localhost:8080/"
        },
        "id": "d26utbok3UgO",
        "outputId": "f5ba233b-4a1c-4e89-db41-02e4adc4ac20"
      },
      "source": [
        "train_size = int(0.8 * len(data1))\n",
        "test_size = len(data1) - train_size\n",
        "\n",
        "univariate_df = data1[['Date', 'Open']].copy()\n",
        "univariate_df.columns = ['ds', 'y']\n",
        "\n",
        "train = univariate_df.iloc[:train_size, :]\n",
        "\n",
        "x_train, y_train = pd.DataFrame(univariate_df.iloc[:train_size, 0]), pd.DataFrame(univariate_df.iloc[:train_size, 1])\n",
        "x_valid, y_valid = pd.DataFrame(univariate_df.iloc[train_size:, 0]), pd.DataFrame(univariate_df.iloc[train_size:, 1])\n",
        "\n",
        "print(len(train), len(x_valid))"
      ],
      "execution_count": null,
      "outputs": [
        {
          "output_type": "stream",
          "name": "stdout",
          "text": [
            "299 75\n"
          ]
        }
      ]
    },
    {
      "cell_type": "markdown",
      "metadata": {
        "id": "91uNJmnPUx8l"
      },
      "source": [
        "## Min Max Scaling"
      ]
    },
    {
      "cell_type": "code",
      "metadata": {
        "colab": {
          "base_uri": "https://localhost:8080/"
        },
        "id": "6cmPBRP53L77",
        "outputId": "b32f2d9c-6741-4b08-8614-5d1bc6d4b431"
      },
      "source": [
        "from sklearn.preprocessing import MinMaxScaler\n",
        "\n",
        "datafiks = univariate_df.filter(['y'])\n",
        "#Convert the dataframe to a numpy array\n",
        "dataset = datafiks.values\n",
        "\n",
        "scaler = MinMaxScaler(feature_range=(-1, 0))\n",
        "scaled_data = scaler.fit_transform(dataset)\n",
        "\n",
        "scaled_data[:10]"
      ],
      "execution_count": null,
      "outputs": [
        {
          "output_type": "execute_result",
          "data": {
            "text/plain": [
              "array([[-0.96627501],\n",
              "       [-0.95648343],\n",
              "       [-0.93956372],\n",
              "       [-0.93539532],\n",
              "       [-0.93576999],\n",
              "       [-0.93766215],\n",
              "       [-0.93921727],\n",
              "       [-0.94832065],\n",
              "       [-0.96208937],\n",
              "       [-0.97024432]])"
            ]
          },
          "metadata": {},
          "execution_count": 24
        }
      ]
    },
    {
      "cell_type": "code",
      "metadata": {
        "colab": {
          "base_uri": "https://localhost:8080/"
        },
        "id": "2TF4F8on3rWt",
        "outputId": "1b11dc27-17ec-4332-cc25-a36a4196bf8a"
      },
      "source": [
        "# Defines the rolling window\n",
        "look_back = 1\n",
        "# Split into train and test sets\n",
        "train, test = scaled_data[:train_size-look_back,:], scaled_data[train_size-look_back:,:]\n",
        "\n",
        "def create_dataset(dataset, look_back=1):\n",
        "    X, Y = [], []\n",
        "    for i in range(look_back, len(dataset)):\n",
        "        a = dataset[i-look_back:i, 0]\n",
        "        X.append(a)\n",
        "        Y.append(dataset[i, 0])\n",
        "    return np.array(X), np.array(Y)\n",
        "\n",
        "x_train, y_train = create_dataset(train, look_back)\n",
        "x_test, y_test = create_dataset(test, look_back)\n",
        "\n",
        "# reshape input to be [samples, time steps, features]\n",
        "x_train = np.reshape(x_train, (x_train.shape[0], 1, x_train.shape[1]))\n",
        "x_test = np.reshape(x_test, (x_test.shape[0], 1, x_test.shape[1]))\n",
        "\n",
        "print(len(x_train), len(x_test))"
      ],
      "execution_count": null,
      "outputs": [
        {
          "output_type": "stream",
          "name": "stdout",
          "text": [
            "297 75\n"
          ]
        }
      ]
    },
    {
      "cell_type": "markdown",
      "metadata": {
        "id": "xy1aCgH7U2tj"
      },
      "source": [
        "##Modeling"
      ]
    },
    {
      "cell_type": "code",
      "source": [
        "x_train.shape[1]"
      ],
      "metadata": {
        "colab": {
          "base_uri": "https://localhost:8080/"
        },
        "id": "Ksd_9BeO3eiw",
        "outputId": "406b59e6-6141-4df8-dd7b-53a451c5e806"
      },
      "execution_count": null,
      "outputs": [
        {
          "output_type": "execute_result",
          "data": {
            "text/plain": [
              "1"
            ]
          },
          "metadata": {},
          "execution_count": 26
        }
      ]
    },
    {
      "cell_type": "code",
      "source": [
        "x_train.shape[2]"
      ],
      "metadata": {
        "id": "V8ch9Yj83iKO",
        "outputId": "6f650d23-ddd7-4cb9-f60f-752d8dcf3b15",
        "colab": {
          "base_uri": "https://localhost:8080/"
        }
      },
      "execution_count": null,
      "outputs": [
        {
          "output_type": "execute_result",
          "data": {
            "text/plain": [
              "1"
            ]
          },
          "metadata": {},
          "execution_count": 27
        }
      ]
    },
    {
      "cell_type": "code",
      "metadata": {
        "colab": {
          "base_uri": "https://localhost:8080/"
        },
        "id": "U7w-Y5KK4klw",
        "outputId": "ddaf1fda-626b-4687-adbf-eb7258a788f7"
      },
      "source": [
        "from keras.models import Sequential\n",
        "from keras.layers import Dense, LSTM\n",
        "\n",
        "#Build the LSTM model\n",
        "model = Sequential()\n",
        "model.add(LSTM(64, return_sequences=True, input_shape=(x_train.shape[1], x_train.shape[2])))\n",
        "model.add(LSTM(32, return_sequences=False))\n",
        "model.add(Dense(25))\n",
        "model.add(Dense(1))\n",
        "\n",
        "# Compile the model\n",
        "model.compile(optimizer='adam', loss='mean_squared_error')\n",
        "\n",
        "#Train the model\n",
        "model.fit(x_train, y_train, batch_size=1, epochs=100, validation_data=(x_test, y_test))\n",
        "\n",
        "model.summary()"
      ],
      "execution_count": null,
      "outputs": [
        {
          "output_type": "stream",
          "name": "stdout",
          "text": [
            "Epoch 1/100\n",
            "297/297 [==============================] - 4s 6ms/step - loss: 0.0646 - val_loss: 0.0336\n",
            "Epoch 2/100\n",
            "297/297 [==============================] - 1s 3ms/step - loss: 9.4892e-04 - val_loss: 0.0040\n",
            "Epoch 3/100\n",
            "297/297 [==============================] - 1s 3ms/step - loss: 4.6665e-04 - val_loss: 0.0064\n",
            "Epoch 4/100\n",
            "297/297 [==============================] - 1s 3ms/step - loss: 5.2332e-04 - val_loss: 0.0036\n",
            "Epoch 5/100\n",
            "297/297 [==============================] - 1s 3ms/step - loss: 5.0877e-04 - val_loss: 0.0030\n",
            "Epoch 6/100\n",
            "297/297 [==============================] - 1s 3ms/step - loss: 4.9628e-04 - val_loss: 0.0025\n",
            "Epoch 7/100\n",
            "297/297 [==============================] - 1s 3ms/step - loss: 5.8792e-04 - val_loss: 0.0019\n",
            "Epoch 8/100\n",
            "297/297 [==============================] - 1s 3ms/step - loss: 4.7991e-04 - val_loss: 0.0031\n",
            "Epoch 9/100\n",
            "297/297 [==============================] - 1s 3ms/step - loss: 5.6177e-04 - val_loss: 0.0043\n",
            "Epoch 10/100\n",
            "297/297 [==============================] - 1s 3ms/step - loss: 6.0906e-04 - val_loss: 0.0035\n",
            "Epoch 11/100\n",
            "297/297 [==============================] - 1s 3ms/step - loss: 4.3330e-04 - val_loss: 0.0024\n",
            "Epoch 12/100\n",
            "297/297 [==============================] - 1s 3ms/step - loss: 6.2449e-04 - val_loss: 0.0019\n",
            "Epoch 13/100\n",
            "297/297 [==============================] - 1s 3ms/step - loss: 6.8400e-04 - val_loss: 0.0028\n",
            "Epoch 14/100\n",
            "297/297 [==============================] - 1s 3ms/step - loss: 4.5375e-04 - val_loss: 0.0021\n",
            "Epoch 15/100\n",
            "297/297 [==============================] - 1s 3ms/step - loss: 4.5153e-04 - val_loss: 0.0020\n",
            "Epoch 16/100\n",
            "297/297 [==============================] - 1s 3ms/step - loss: 4.5896e-04 - val_loss: 0.0013\n",
            "Epoch 17/100\n",
            "297/297 [==============================] - 1s 3ms/step - loss: 6.3040e-04 - val_loss: 0.0016\n",
            "Epoch 18/100\n",
            "297/297 [==============================] - 1s 3ms/step - loss: 5.3624e-04 - val_loss: 0.0013\n",
            "Epoch 19/100\n",
            "297/297 [==============================] - 1s 3ms/step - loss: 5.1871e-04 - val_loss: 0.0014\n",
            "Epoch 20/100\n",
            "297/297 [==============================] - 1s 3ms/step - loss: 5.6941e-04 - val_loss: 0.0012\n",
            "Epoch 21/100\n",
            "297/297 [==============================] - 1s 3ms/step - loss: 6.5904e-04 - val_loss: 0.0024\n",
            "Epoch 22/100\n",
            "297/297 [==============================] - 1s 3ms/step - loss: 4.6757e-04 - val_loss: 0.0013\n",
            "Epoch 23/100\n",
            "297/297 [==============================] - 1s 3ms/step - loss: 5.0748e-04 - val_loss: 0.0015\n",
            "Epoch 24/100\n",
            "297/297 [==============================] - 1s 3ms/step - loss: 4.5999e-04 - val_loss: 0.0012\n",
            "Epoch 25/100\n",
            "297/297 [==============================] - 1s 3ms/step - loss: 4.6490e-04 - val_loss: 0.0015\n",
            "Epoch 26/100\n",
            "297/297 [==============================] - 1s 3ms/step - loss: 4.8693e-04 - val_loss: 0.0018\n",
            "Epoch 27/100\n",
            "297/297 [==============================] - 1s 3ms/step - loss: 4.6687e-04 - val_loss: 0.0014\n",
            "Epoch 28/100\n",
            "297/297 [==============================] - 1s 3ms/step - loss: 4.9831e-04 - val_loss: 0.0013\n",
            "Epoch 29/100\n",
            "297/297 [==============================] - 1s 3ms/step - loss: 5.2047e-04 - val_loss: 0.0013\n",
            "Epoch 30/100\n",
            "297/297 [==============================] - 1s 3ms/step - loss: 4.6897e-04 - val_loss: 0.0013\n",
            "Epoch 31/100\n",
            "297/297 [==============================] - 1s 3ms/step - loss: 5.6468e-04 - val_loss: 0.0015\n",
            "Epoch 32/100\n",
            "297/297 [==============================] - 1s 3ms/step - loss: 4.7798e-04 - val_loss: 0.0013\n",
            "Epoch 33/100\n",
            "297/297 [==============================] - 1s 3ms/step - loss: 4.9826e-04 - val_loss: 0.0013\n",
            "Epoch 34/100\n",
            "297/297 [==============================] - 1s 3ms/step - loss: 4.1011e-04 - val_loss: 0.0013\n",
            "Epoch 35/100\n",
            "297/297 [==============================] - 1s 3ms/step - loss: 5.2772e-04 - val_loss: 0.0014\n",
            "Epoch 36/100\n",
            "297/297 [==============================] - 1s 3ms/step - loss: 5.2296e-04 - val_loss: 0.0014\n",
            "Epoch 37/100\n",
            "297/297 [==============================] - 1s 3ms/step - loss: 4.5011e-04 - val_loss: 0.0013\n",
            "Epoch 38/100\n",
            "297/297 [==============================] - 1s 3ms/step - loss: 4.8870e-04 - val_loss: 0.0013\n",
            "Epoch 39/100\n",
            "297/297 [==============================] - 1s 3ms/step - loss: 4.5399e-04 - val_loss: 0.0020\n",
            "Epoch 40/100\n",
            "297/297 [==============================] - 1s 3ms/step - loss: 5.3124e-04 - val_loss: 0.0015\n",
            "Epoch 41/100\n",
            "297/297 [==============================] - 1s 3ms/step - loss: 5.0402e-04 - val_loss: 0.0012\n",
            "Epoch 42/100\n",
            "297/297 [==============================] - 1s 3ms/step - loss: 4.4929e-04 - val_loss: 0.0013\n",
            "Epoch 43/100\n",
            "297/297 [==============================] - 1s 3ms/step - loss: 4.9215e-04 - val_loss: 0.0012\n",
            "Epoch 44/100\n",
            "297/297 [==============================] - 1s 3ms/step - loss: 6.1184e-04 - val_loss: 0.0015\n",
            "Epoch 45/100\n",
            "297/297 [==============================] - 1s 3ms/step - loss: 4.5815e-04 - val_loss: 0.0013\n",
            "Epoch 46/100\n",
            "297/297 [==============================] - 1s 3ms/step - loss: 4.6123e-04 - val_loss: 0.0014\n",
            "Epoch 47/100\n",
            "297/297 [==============================] - 1s 3ms/step - loss: 4.2104e-04 - val_loss: 0.0013\n",
            "Epoch 48/100\n",
            "297/297 [==============================] - 1s 3ms/step - loss: 5.2602e-04 - val_loss: 0.0014\n",
            "Epoch 49/100\n",
            "297/297 [==============================] - 1s 3ms/step - loss: 4.1299e-04 - val_loss: 0.0026\n",
            "Epoch 50/100\n",
            "297/297 [==============================] - 1s 3ms/step - loss: 5.4574e-04 - val_loss: 0.0014\n",
            "Epoch 51/100\n",
            "297/297 [==============================] - 1s 3ms/step - loss: 4.4424e-04 - val_loss: 0.0013\n",
            "Epoch 52/100\n",
            "297/297 [==============================] - 1s 3ms/step - loss: 4.2312e-04 - val_loss: 0.0016\n",
            "Epoch 53/100\n",
            "297/297 [==============================] - 1s 3ms/step - loss: 4.4763e-04 - val_loss: 0.0013\n",
            "Epoch 54/100\n",
            "297/297 [==============================] - 1s 3ms/step - loss: 4.9762e-04 - val_loss: 0.0013\n",
            "Epoch 55/100\n",
            "297/297 [==============================] - 1s 3ms/step - loss: 4.6837e-04 - val_loss: 0.0015\n",
            "Epoch 56/100\n",
            "297/297 [==============================] - 1s 3ms/step - loss: 4.9459e-04 - val_loss: 0.0019\n",
            "Epoch 57/100\n",
            "297/297 [==============================] - 1s 3ms/step - loss: 5.3564e-04 - val_loss: 0.0024\n",
            "Epoch 58/100\n",
            "297/297 [==============================] - 1s 3ms/step - loss: 5.3038e-04 - val_loss: 0.0013\n",
            "Epoch 59/100\n",
            "297/297 [==============================] - 1s 3ms/step - loss: 4.8745e-04 - val_loss: 0.0013\n",
            "Epoch 60/100\n",
            "297/297 [==============================] - 1s 3ms/step - loss: 3.8248e-04 - val_loss: 0.0013\n",
            "Epoch 61/100\n",
            "297/297 [==============================] - 1s 3ms/step - loss: 4.0790e-04 - val_loss: 0.0017\n",
            "Epoch 62/100\n",
            "297/297 [==============================] - 1s 3ms/step - loss: 4.9402e-04 - val_loss: 0.0013\n",
            "Epoch 63/100\n",
            "297/297 [==============================] - 1s 3ms/step - loss: 3.9410e-04 - val_loss: 0.0038\n",
            "Epoch 64/100\n",
            "297/297 [==============================] - 1s 3ms/step - loss: 5.1817e-04 - val_loss: 0.0012\n",
            "Epoch 65/100\n",
            "297/297 [==============================] - 1s 3ms/step - loss: 4.6195e-04 - val_loss: 0.0017\n",
            "Epoch 66/100\n",
            "297/297 [==============================] - 1s 3ms/step - loss: 5.2539e-04 - val_loss: 0.0014\n",
            "Epoch 67/100\n",
            "297/297 [==============================] - 1s 3ms/step - loss: 4.8016e-04 - val_loss: 0.0014\n",
            "Epoch 68/100\n",
            "297/297 [==============================] - 1s 3ms/step - loss: 4.8256e-04 - val_loss: 0.0016\n",
            "Epoch 69/100\n",
            "297/297 [==============================] - 1s 3ms/step - loss: 4.9849e-04 - val_loss: 0.0025\n",
            "Epoch 70/100\n",
            "297/297 [==============================] - 1s 3ms/step - loss: 4.8602e-04 - val_loss: 0.0012\n",
            "Epoch 71/100\n",
            "297/297 [==============================] - 1s 3ms/step - loss: 4.6851e-04 - val_loss: 0.0017\n",
            "Epoch 72/100\n",
            "297/297 [==============================] - 1s 3ms/step - loss: 3.9261e-04 - val_loss: 0.0014\n",
            "Epoch 73/100\n",
            "297/297 [==============================] - 1s 3ms/step - loss: 5.3708e-04 - val_loss: 0.0014\n",
            "Epoch 74/100\n",
            "297/297 [==============================] - 1s 3ms/step - loss: 4.5361e-04 - val_loss: 0.0013\n",
            "Epoch 75/100\n",
            "297/297 [==============================] - 1s 3ms/step - loss: 4.3419e-04 - val_loss: 0.0015\n",
            "Epoch 76/100\n",
            "297/297 [==============================] - 1s 3ms/step - loss: 5.1214e-04 - val_loss: 0.0013\n",
            "Epoch 77/100\n",
            "297/297 [==============================] - 1s 3ms/step - loss: 4.3631e-04 - val_loss: 0.0015\n",
            "Epoch 78/100\n",
            "297/297 [==============================] - 1s 3ms/step - loss: 5.0066e-04 - val_loss: 0.0016\n",
            "Epoch 79/100\n",
            "297/297 [==============================] - 1s 3ms/step - loss: 4.1059e-04 - val_loss: 0.0013\n",
            "Epoch 80/100\n",
            "297/297 [==============================] - 1s 3ms/step - loss: 5.2831e-04 - val_loss: 0.0013\n",
            "Epoch 81/100\n",
            "297/297 [==============================] - 1s 3ms/step - loss: 4.9357e-04 - val_loss: 0.0014\n",
            "Epoch 82/100\n",
            "297/297 [==============================] - 1s 3ms/step - loss: 4.3201e-04 - val_loss: 0.0013\n",
            "Epoch 83/100\n",
            "297/297 [==============================] - 1s 3ms/step - loss: 4.8363e-04 - val_loss: 0.0016\n",
            "Epoch 84/100\n",
            "297/297 [==============================] - 1s 3ms/step - loss: 4.1615e-04 - val_loss: 0.0015\n",
            "Epoch 85/100\n",
            "297/297 [==============================] - 1s 3ms/step - loss: 4.1259e-04 - val_loss: 0.0013\n",
            "Epoch 86/100\n",
            "297/297 [==============================] - 1s 3ms/step - loss: 5.3591e-04 - val_loss: 0.0015\n",
            "Epoch 87/100\n",
            "297/297 [==============================] - 1s 3ms/step - loss: 4.4429e-04 - val_loss: 0.0015\n",
            "Epoch 88/100\n",
            "297/297 [==============================] - 1s 3ms/step - loss: 4.6485e-04 - val_loss: 0.0013\n",
            "Epoch 89/100\n",
            "297/297 [==============================] - 1s 3ms/step - loss: 5.3734e-04 - val_loss: 0.0016\n",
            "Epoch 90/100\n",
            "297/297 [==============================] - 1s 3ms/step - loss: 3.9403e-04 - val_loss: 0.0012\n",
            "Epoch 91/100\n",
            "297/297 [==============================] - 1s 3ms/step - loss: 4.4461e-04 - val_loss: 0.0013\n",
            "Epoch 92/100\n",
            "297/297 [==============================] - 1s 3ms/step - loss: 4.3822e-04 - val_loss: 0.0014\n",
            "Epoch 93/100\n",
            "297/297 [==============================] - 1s 3ms/step - loss: 3.9299e-04 - val_loss: 0.0015\n",
            "Epoch 94/100\n",
            "297/297 [==============================] - 1s 3ms/step - loss: 4.2103e-04 - val_loss: 0.0014\n",
            "Epoch 95/100\n",
            "297/297 [==============================] - 1s 3ms/step - loss: 4.9390e-04 - val_loss: 0.0015\n",
            "Epoch 96/100\n",
            "297/297 [==============================] - 1s 3ms/step - loss: 4.8297e-04 - val_loss: 0.0014\n",
            "Epoch 97/100\n",
            "297/297 [==============================] - 1s 3ms/step - loss: 4.5281e-04 - val_loss: 0.0016\n",
            "Epoch 98/100\n",
            "297/297 [==============================] - 1s 3ms/step - loss: 3.9872e-04 - val_loss: 0.0015\n",
            "Epoch 99/100\n",
            "297/297 [==============================] - 1s 3ms/step - loss: 4.4748e-04 - val_loss: 0.0024\n",
            "Epoch 100/100\n",
            "297/297 [==============================] - 1s 3ms/step - loss: 4.9207e-04 - val_loss: 0.0021\n",
            "Model: \"sequential\"\n",
            "_________________________________________________________________\n",
            " Layer (type)                Output Shape              Param #   \n",
            "=================================================================\n",
            " lstm (LSTM)                 (None, 1, 64)             16896     \n",
            "                                                                 \n",
            " lstm_1 (LSTM)               (None, 32)                12416     \n",
            "                                                                 \n",
            " dense (Dense)               (None, 25)                825       \n",
            "                                                                 \n",
            " dense_1 (Dense)             (None, 1)                 26        \n",
            "                                                                 \n",
            "=================================================================\n",
            "Total params: 30,163\n",
            "Trainable params: 30,163\n",
            "Non-trainable params: 0\n",
            "_________________________________________________________________\n"
          ]
        }
      ]
    },
    {
      "cell_type": "code",
      "metadata": {
        "id": "2S_QE7fL5Ds8",
        "colab": {
          "base_uri": "https://localhost:8080/"
        },
        "outputId": "1b3b94bf-ef19-4ff2-9f1c-efe9a8afd2f8"
      },
      "source": [
        "# Lets predict with the model\n",
        "train_predict = model.predict(x_train)\n",
        "test_predict = model.predict(x_test)\n",
        "\n",
        "# invert predictions\n",
        "train_predict = scaler.inverse_transform(train_predict)\n",
        "y_train = scaler.inverse_transform([y_train])\n",
        "\n",
        "test_predict = scaler.inverse_transform(test_predict)\n",
        "y_test = scaler.inverse_transform([y_test])\n",
        "\n",
        "# Get the root mean squared error (RMSE) and MAE\n",
        "score_rmse = np.sqrt(mean_squared_error(y_test[0], test_predict[:,0]))\n",
        "score_mae = mean_absolute_error(y_test[0], test_predict[:,0])\n",
        "train_score_rmse = np.sqrt(mean_squared_error(y_train[0], train_predict[:,0]))\n",
        "train_score_mae = mean_absolute_error(y_train[0], train_predict[:,0])\n",
        "print(Fore.GREEN + 'RMSE Test: {}'.format(score_rmse))\n",
        "print(Fore.GREEN + 'RMSE Train: {}'.format(train_score_rmse))"
      ],
      "execution_count": null,
      "outputs": [
        {
          "output_type": "stream",
          "name": "stdout",
          "text": [
            "\u001b[32mRMSE Test: 295.1250765656463\n",
            "\u001b[32mRMSE Train: 117.9832832344132\n"
          ]
        }
      ]
    },
    {
      "cell_type": "markdown",
      "metadata": {
        "id": "-DunGdOtvoFW"
      },
      "source": [
        "##Uji Residu Autokerasi"
      ]
    },
    {
      "cell_type": "code",
      "metadata": {
        "id": "91rx8ZJyqkqe"
      },
      "source": [
        "res = abs(y_test.transpose()-test_predict)\n",
        "res"
      ],
      "execution_count": null,
      "outputs": []
    },
    {
      "cell_type": "code",
      "metadata": {
        "id": "9YF8x_gzqc_D"
      },
      "source": [
        "RES = pd.DataFrame(res)"
      ],
      "execution_count": null,
      "outputs": []
    },
    {
      "cell_type": "code",
      "metadata": {
        "colab": {
          "base_uri": "https://localhost:8080/",
          "height": 545
        },
        "id": "DFo21-J6rXzb",
        "outputId": "11dc7886-6721-4d76-e980-ac87bc9864f1"
      },
      "source": [
        "sm.graphics.tsa.plot_acf(res)\n",
        "sm.graphics.tsa.plot_pacf(res)\n",
        "plt.show()"
      ],
      "execution_count": null,
      "outputs": [
        {
          "output_type": "display_data",
          "data": {
            "image/png": "[encoded data removed]",
            "text/plain": [
              "<Figure size 432x288 with 1 Axes>"
            ]
          },
          "metadata": {
            "needs_background": "light"
          }
        },
        {
          "output_type": "display_data",
          "data": {
            "image/png": "[encoded data removed]",
            "text/plain": [
              "<Figure size 432x288 with 1 Axes>"
            ]
          },
          "metadata": {
            "needs_background": "light"
          }
        }
      ]
    },
    {
      "cell_type": "markdown",
      "metadata": {
        "id": "5jT1_2yevrzd"
      },
      "source": [
        "##Plot Perbandingan"
      ]
    },
    {
      "cell_type": "code",
      "metadata": {
        "colab": {
          "base_uri": "https://localhost:8080/",
          "height": 425
        },
        "id": "VvSfzvrT5lhy",
        "outputId": "c9c1e733-f834-4df6-d1ed-d31fe31ef0f9"
      },
      "source": [
        "x_train_ticks = univariate_df.head(train_size)['ds']\n",
        "y_train = univariate_df.head(train_size)['y']\n",
        "x_test_ticks = univariate_df.tail(test_size)['ds']\n",
        "\n",
        "# Plot the forecast\n",
        "f, ax = plt.subplots(1)\n",
        "f.set_figheight(6)\n",
        "f.set_figwidth(15)\n",
        "\n",
        "sns.lineplot(x=x_train_ticks, y=y_train, ax=ax, label='Train Set') #navajowhite\n",
        "sns.lineplot(x=x_test_ticks, y=test_predict[:,0], ax=ax, color='green', label='Prediction') #navajowhite\n",
        "sns.lineplot(x=x_test_ticks, y=y_test[0], ax=ax, color='orange', label='IHSG truth') #navajowhite\n",
        "\n",
        "ax.set_title(f'Prediction \\n RMSE Data Uji: {score_rmse:.2f}', fontsize=14)\n",
        "ax.set_xlabel(xlabel='Date', fontsize=14)\n",
        "ax.set_ylabel(ylabel='Open', fontsize=14)\n",
        "\n",
        "plt.show()"
      ],
      "execution_count": null,
      "outputs": [
        {
          "output_type": "display_data",
          "data": {
            "image/png": "[encoded data removed]",
            "text/plain": [
              "<Figure size 1080x432 with 1 Axes>"
            ]
          },
          "metadata": {
            "needs_background": "light"
          }
        }
      ]
    },
    {
      "cell_type": "markdown",
      "metadata": {
        "id": "2w55jjPk57FO"
      },
      "source": [
        "#MLP"
      ]
    },
    {
      "cell_type": "code",
      "metadata": {
        "id": "zDmQVBKC9_sJ"
      },
      "source": [
        "df= data.copy()"
      ],
      "execution_count": null,
      "outputs": []
    },
    {
      "cell_type": "code",
      "metadata": {
        "id": "c58lOyEm597v"
      },
      "source": [
        "# Scalling data\n",
        "from sklearn import preprocessing\n",
        "\n",
        "min_max_scaler = preprocessing.MinMaxScaler(feature_range=(0, 1))\n",
        "df_scale = min_max_scaler.fit_transform(df['Open'].values.reshape(-1, 1))"
      ],
      "execution_count": null,
      "outputs": []
    },
    {
      "cell_type": "code",
      "metadata": {
        "colab": {
          "base_uri": "https://localhost:8080/"
        },
        "id": "2q0fkhKi-H9H",
        "outputId": "f6aba95e-d34a-4747-cdc0-7d91de19212c"
      },
      "source": [
        "#Split data menjadi training dan testing\n",
        "train_size = int(len(df_scale) * 0.8)\n",
        "test_size = len(df_scale) - train_size\n",
        "train, test = df_scale[0:train_size,:], df_scale[train_size:len(df_scale),:]\n",
        "print(len(train), len(test))"
      ],
      "execution_count": null,
      "outputs": [
        {
          "output_type": "stream",
          "name": "stdout",
          "text": [
            "299 75\n"
          ]
        }
      ]
    },
    {
      "cell_type": "code",
      "metadata": {
        "id": "1vrypXXM-R_T"
      },
      "source": [
        "# Fungsi untuk membangun variabel input dan target\n",
        "def input_target(dataset, look_back):\n",
        "    dataX, dataY = [], []\n",
        "    for i in range(len(dataset)-look_back):\n",
        "        a = dataset[i:(i+look_back), 0]\n",
        "        dataX.append(a)\n",
        "        dataY.append(dataset[i + look_back, 0])\n",
        "    return np.array(dataX), np.array(dataY)"
      ],
      "execution_count": null,
      "outputs": []
    },
    {
      "cell_type": "code",
      "metadata": {
        "colab": {
          "base_uri": "https://localhost:8080/"
        },
        "id": "haoRy4HH-Umv",
        "outputId": "1f31cbff-46e1-4725-f889-ff9b67b72353"
      },
      "source": [
        "# Membangun data input dan target pada data yang kita miliki\n",
        "x_train, y_train = input_target(train, 1)\n",
        "x_test, y_test = input_target(test, 1)\n",
        "print(x_train.shape)\n",
        "print(y_train.shape)\n",
        "print(x_test.shape)\n",
        "print(y_test.shape)"
      ],
      "execution_count": null,
      "outputs": [
        {
          "output_type": "stream",
          "name": "stdout",
          "text": [
            "(298, 1)\n",
            "(298,)\n",
            "(74, 1)\n",
            "(74,)\n"
          ]
        }
      ]
    },
    {
      "cell_type": "markdown",
      "metadata": {
        "id": "KyLpXMzuv85J"
      },
      "source": [
        "##Model MLP"
      ]
    },
    {
      "cell_type": "code",
      "metadata": {
        "id": "XvG1mbEX-WFe"
      },
      "source": [
        "#Import library yang dibutuhkan\n",
        "import tensorflow as tf\n",
        "from keras.layers import Dense, Input, Dropout\n",
        "from tensorflow.keras.optimizers import Adam\n",
        "from keras.models import Model\n",
        "from keras.models import load_model\n",
        "from keras.callbacks import ModelCheckpoint"
      ],
      "execution_count": null,
      "outputs": []
    },
    {
      "cell_type": "code",
      "metadata": {
        "id": "pXsrhIfV-iGI"
      },
      "source": [
        "#Mendefinisikan layer input sebagai (look_back, none)\n",
        "input_layer = Input(shape=(1,))"
      ],
      "execution_count": null,
      "outputs": []
    },
    {
      "cell_type": "code",
      "metadata": {
        "id": "W_oreHvE-kbj"
      },
      "source": [
        "#Dense layer di sini seperti hidden layer\n",
        "dense1 = Dense(128, activation='relu')(input_layer)\n",
        "dense2 = Dense(64, activation='relu')(dense1)\n",
        "dense3 = Dense(32, activation='relu')(dense2)"
      ],
      "execution_count": null,
      "outputs": []
    },
    {
      "cell_type": "code",
      "metadata": {
        "id": "HGWIqmnI-nbg"
      },
      "source": [
        "#Mendefinisikan output layer\n",
        "output_layer = Dense(1, activation='linear')(dense3)"
      ],
      "execution_count": null,
      "outputs": []
    },
    {
      "cell_type": "code",
      "metadata": {
        "colab": {
          "base_uri": "https://localhost:8080/"
        },
        "id": "n1Us2vxP-q_t",
        "outputId": "dab6c343-54db-429d-b509-749a79a346dd"
      },
      "source": [
        "#Membentuk model\n",
        "ts_model = Model(inputs=input_layer, outputs=output_layer)\n",
        "ts_model.compile(loss='mean_squared_error', optimizer='adam')\n",
        "ts_model.summary()"
      ],
      "execution_count": null,
      "outputs": [
        {
          "output_type": "stream",
          "name": "stdout",
          "text": [
            "Model: \"model\"\n",
            "_________________________________________________________________\n",
            " Layer (type)                Output Shape              Param #   \n",
            "=================================================================\n",
            " input_1 (InputLayer)        [(None, 1)]               0         \n",
            "                                                                 \n",
            " dense_2 (Dense)             (None, 128)               256       \n",
            "                                                                 \n",
            " dense_3 (Dense)             (None, 64)                8256      \n",
            "                                                                 \n",
            " dense_4 (Dense)             (None, 32)                2080      \n",
            "                                                                 \n",
            " dense_5 (Dense)             (None, 1)                 33        \n",
            "                                                                 \n",
            "=================================================================\n",
            "Total params: 10,625\n",
            "Trainable params: 10,625\n",
            "Non-trainable params: 0\n",
            "_________________________________________________________________\n"
          ]
        }
      ]
    },
    {
      "cell_type": "code",
      "metadata": {
        "id": "npR_GAMc-uTU"
      },
      "source": [
        "import os\n",
        "#Running model pada data training\n",
        "save_path = \".\"\n",
        "save_weights_at=os.path.join('keras_model','Bobot_Open.hdf5')\n",
        "save_best=ModelCheckpoint(save_weights_at, monitor='val_loss',verbose=0,\n",
        "                          save_best_only=True,save_weights_only=False)\n",
        "ts_model.fit(x=x_train, y=y_train, batch_size=16, epochs=100,\n",
        "             verbose=1, callbacks=[save_best], validation_data=(x_train, y_train),\n",
        "             shuffle=True)\n",
        "ts_model.save(os.path.join(save_path,\"network.h5\"))"
      ],
      "execution_count": null,
      "outputs": []
    },
    {
      "cell_type": "code",
      "metadata": {
        "id": "46pTg0gU_BvZ"
      },
      "source": [
        "#Prediksi data training dan testing berdasarkan bobot terbaik yang didapat\n",
        "best_model = load_model(os.path.join(save_path,\"network.h5\"))\n",
        "trainPredict = best_model.predict(x_train)\n",
        "testPredict = best_model.predict(x_test)\n",
        "\n",
        "#Re-shape data Y train dan testing agar dapat dikonversi menjadi data asli kembali\n",
        "y_tr=y_train.reshape(-1,1)\n",
        "y_ts=y_test.reshape(-1,1)\n",
        "\n",
        "#Konfersi data train dan test\n",
        "trainPredict=min_max_scaler.inverse_transform(trainPredict)\n",
        "y_train=min_max_scaler.inverse_transform(y_tr)\n",
        "testPredict=min_max_scaler.inverse_transform(testPredict)\n",
        "y_test=min_max_scaler.inverse_transform(y_ts)"
      ],
      "execution_count": null,
      "outputs": []
    },
    {
      "cell_type": "code",
      "metadata": {
        "colab": {
          "base_uri": "https://localhost:8080/"
        },
        "id": "ELGoyEi3_HG-",
        "outputId": "a22d52c7-a42f-4251-a070-756025839f21"
      },
      "source": [
        "#Melihat R-square dari data training dan testing\n",
        "#R-Square, RMSE, MSE, MAPE, dsb sering digunakan untuk kasus regresi, karena tidak dapat menggunakan akurasi, presisi, recall, dsb.\n",
        "from sklearn.metrics import r2_score\n",
        "\n",
        "r2tr = r2_score(y_train, trainPredict)\n",
        "print('R-squared data training:', round(r2tr,4)*100,\"%\")\n",
        "r2ts = r2_score(y_test, testPredict)\n",
        "print('R-squared data testing:', round(r2ts,4)*100,\"%\")"
      ],
      "execution_count": null,
      "outputs": [
        {
          "output_type": "stream",
          "name": "stdout",
          "text": [
            "R-squared data training: 99.47 %\n",
            "R-squared data testing: 86.5 %\n"
          ]
        }
      ]
    },
    {
      "cell_type": "code",
      "metadata": {
        "colab": {
          "base_uri": "https://localhost:8080/"
        },
        "id": "zPvoX3Ne_MA4",
        "outputId": "dada2835-0634-4026-d7d9-f5718e57e8cd"
      },
      "source": [
        "# Menghitung RMSE\n",
        "from sklearn import metrics\n",
        "\n",
        "score = np.sqrt(metrics.mean_squared_error(trainPredict,y_train))\n",
        "print(f\"RMSE data training: {score}\")\n",
        "score = np.sqrt(metrics.mean_squared_error(testPredict,y_test))\n",
        "print(f\"RMSE data testing: {score}\")"
      ],
      "execution_count": null,
      "outputs": [
        {
          "output_type": "stream",
          "name": "stdout",
          "text": [
            "RMSE data training: 105.6143237954338\n",
            "RMSE data testing: 230.88936359760132\n"
          ]
        }
      ]
    },
    {
      "cell_type": "code",
      "metadata": {
        "colab": {
          "base_uri": "https://localhost:8080/",
          "height": 265
        },
        "id": "1GheEVMO_Obu",
        "outputId": "5c16f5b3-580e-45e8-e6b2-f5e68f2edf35"
      },
      "source": [
        "#Memvisualisasi hasil prediksi vs. aktual\n",
        "\n",
        "look_back=1\n",
        "# shift train predictions for plotting\n",
        "trainPredictPlot = np.empty_like(df_scale)\n",
        "trainPredictPlot[:, :] = np.nan\n",
        "trainPredictPlot[look_back:len(trainPredict)+look_back, :] = trainPredict\n",
        "# shift test predictions for plotting\n",
        "testPredictPlot = np.empty_like(df_scale)\n",
        "testPredictPlot[:, :] = np.nan\n",
        "testPredictPlot[len(trainPredict)+(look_back*2):len(df_scale), :] = testPredict\n",
        "# plot baseline and predictions\n",
        "plt.plot(df[['Open']])\n",
        "plt.plot(trainPredictPlot)\n",
        "plt.plot(testPredictPlot)\n",
        "plt.show()"
      ],
      "execution_count": null,
      "outputs": [
        {
          "output_type": "display_data",
          "data": {
            "image/png": "[encoded data removed]",
            "text/plain": [
              "<Figure size 432x288 with 1 Axes>"
            ]
          },
          "metadata": {
            "needs_background": "light"
          }
        }
      ]
    },
    {
      "cell_type": "markdown",
      "metadata": {
        "id": "tSI8Bn5twdmw"
      },
      "source": [
        "## Uji Residu Autokorelasi MLP"
      ]
    },
    {
      "cell_type": "code",
      "metadata": {
        "id": "iB9I9aiJwiGX"
      },
      "source": [
        "res2= abs(testPredict-y_test)"
      ],
      "execution_count": null,
      "outputs": []
    },
    {
      "cell_type": "code",
      "metadata": {
        "id": "pyRFhB2Zwuhe"
      },
      "source": [
        "RES2= pd.DataFrame(res2)"
      ],
      "execution_count": null,
      "outputs": []
    },
    {
      "cell_type": "code",
      "metadata": {
        "colab": {
          "base_uri": "https://localhost:8080/",
          "height": 545
        },
        "id": "Ac6aa8qwwudJ",
        "outputId": "dc947877-ac8b-42c6-c133-2dbb62e47e30"
      },
      "source": [
        "sm.graphics.tsa.plot_acf(RES2)\n",
        "sm.graphics.tsa.plot_pacf(RES2)\n",
        "plt.show()"
      ],
      "execution_count": null,
      "outputs": [
        {
          "output_type": "display_data",
          "data": {
            "image/png": "[encoded data removed]",
            "text/plain": [
              "<Figure size 432x288 with 1 Axes>"
            ]
          },
          "metadata": {
            "needs_background": "light"
          }
        },
        {
          "output_type": "display_data",
          "data": {
            "image/png": "[encoded data removed]",
            "text/plain": [
              "<Figure size 432x288 with 1 Axes>"
            ]
          },
          "metadata": {
            "needs_background": "light"
          }
        }
      ]
    }
  ]
}